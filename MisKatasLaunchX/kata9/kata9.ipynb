{
 "cells": [
  {
   "cell_type": "markdown",
   "metadata": {},
   "source": [
    "# Ejercicio 1: trabajarcon argumentos en funciones"
   ]
  },
  {
   "cell_type": "code",
   "execution_count": 1,
   "metadata": {},
   "outputs": [],
   "source": [
    "def tanques_combustible(tanque_interno, tanque_externo, tanque_hidrogeno):\n",
    "    promedio_total = (tanque_interno + tanque_externo + tanque_hidrogeno) / 3\n",
    "    return f\"\"\"reporte de combustible:\n",
    "    promedio total: {promedio_total}%\n",
    "    tanque interno: {tanque_interno}%\n",
    "    tanque externo: {tanque_externo}%\n",
    "    tanque hidrogeno: {tanque_hidrogeno}% \n",
    "    \"\"\""
   ]
  },
  {
   "cell_type": "code",
   "execution_count": 2,
   "metadata": {},
   "outputs": [
    {
     "name": "stdout",
     "output_type": "stream",
     "text": [
      "reporte de combustible:\n",
      "    promedio total: 71.66666666666667%\n",
      "    tanque interno: 70%\n",
      "    tanque externo: 85%\n",
      "    tanque hidrogeno: 60% \n",
      "    \n"
     ]
    }
   ],
   "source": [
    "print(tanques_combustible(70, 85, 60))"
   ]
  },
  {
   "cell_type": "code",
   "execution_count": 3,
   "metadata": {},
   "outputs": [
    {
     "data": {
      "text/plain": [
       "75.0"
      ]
     },
     "execution_count": 3,
     "metadata": {},
     "output_type": "execute_result"
    }
   ],
   "source": [
    "def promedio(values):\n",
    "    total =sum(values)\n",
    "    numeros_items = len(values)\n",
    "    return total / numeros_items\n",
    "\n",
    "promedio([70, 75, 80])"
   ]
  },
  {
   "cell_type": "code",
   "execution_count": 4,
   "metadata": {},
   "outputs": [
    {
     "name": "stdout",
     "output_type": "stream",
     "text": [
      "reporte de combustible:\n",
      "    promedio total:84.33333333333333% \n",
      "    tanque interno: 85%\n",
      "    tanque externo: 78%\n",
      "    tanque hidrogeno: 90% \n",
      "    \n"
     ]
    }
   ],
   "source": [
    "def tanques_combustible(tanque_interno, tanque_externo, tanque_hidrogeno):\n",
    "    return f\"\"\"reporte de combustible:\n",
    "    promedio total:{promedio([tanque_interno, tanque_externo, tanque_hidrogeno])}% \n",
    "    tanque interno: {tanque_interno}%\n",
    "    tanque externo: {tanque_externo}%\n",
    "    tanque hidrogeno: {tanque_hidrogeno}% \n",
    "    \"\"\"\n",
    "print(tanques_combustible(85,78,90))"
   ]
  },
  {
   "cell_type": "markdown",
   "metadata": {},
   "source": [
    "# Ejercicio 2: trabajo con argumentos de palabra claves"
   ]
  },
  {
   "cell_type": "code",
   "execution_count": 6,
   "metadata": {},
   "outputs": [
    {
     "name": "stdout",
     "output_type": "stream",
     "text": [
      "\n",
      "    mision a Moon\n",
      "    tiempo total de vuelo: 51 minutos\n",
      "    combustible restante: 500000 galones\n",
      "    \n"
     ]
    }
   ],
   "source": [
    "def mision(prelanzamiento, tiempo_vuelo, destino, tanque_externo, tanque_interno):\n",
    "    return f\"\"\"\n",
    "    mision a {destino}\n",
    "    tiempo total de vuelo: {tiempo_vuelo} minutos\n",
    "    combustible restante: {tanque_interno + tanque_externo} galones\n",
    "    \"\"\"\n",
    "\n",
    "print(mision(14, 51, \"Moon\", 200000, 300000))"
   ]
  },
  {
   "cell_type": "code",
   "execution_count": 7,
   "metadata": {},
   "outputs": [
    {
     "name": "stdout",
     "output_type": "stream",
     "text": [
      "\n",
      "    mision a Moon\n",
      "    tiempoi total de vuelo: 76 minutos\n",
      "    combustible restante: 500000\n",
      "    \n"
     ]
    }
   ],
   "source": [
    "def mision(destino, *minutos, **reserva_combustible):\n",
    "    return f\"\"\"\n",
    "    mision a {destino}\n",
    "    tiempo total de vuelo: {sum(minutos)} minutos\n",
    "    combustible restante: {sum(reserva_combustible.values())}\n",
    "    \"\"\"\n",
    "\n",
    "print(mision(\"Moon\", 10, 15, 51, interno=300000, externo=200000))"
   ]
  },
  {
   "cell_type": "code",
   "execution_count": 9,
   "metadata": {},
   "outputs": [
    {
     "name": "stdout",
     "output_type": "stream",
     "text": [
      "\n",
      "    mision a Moon\n",
      "    tiempo total de vuelo: 74 minutos\n",
      "    combustible restante: 500000\n",
      "    interno tanque --> 300000 galones restantes\n",
      "externo tanque --> 200000 galones restantes\n",
      "\n"
     ]
    }
   ],
   "source": [
    "def mision(destino, *minutos, **reserva_combustible):\n",
    "    reporte_mision = f\"\"\"\n",
    "    mision a {destino}\n",
    "    tiempo total de vuelo: {sum(minutos)} minutos\n",
    "    combustible restante: {sum(reserva_combustible.values())}\n",
    "    \"\"\"\n",
    "    for tanque, galones in reserva_combustible.items():\n",
    "        reporte_mision += f\"{tanque} tanque --> {galones} galones restantes\\n\"\n",
    "    return reporte_mision\n",
    "\n",
    "print(mision(\"Moon\", 8, 11, 55, interno=300000, externo=200000))"
   ]
  },
  {
   "cell_type": "code",
   "execution_count": null,
   "metadata": {},
   "outputs": [],
   "source": []
  }
 ],
 "metadata": {
  "interpreter": {
   "hash": "916dbcbb3f70747c44a77c7bcd40155683ae19c65e1c03b4aa3499c5328201f1"
  },
  "kernelspec": {
   "display_name": "Python 3.8.10 64-bit",
   "language": "python",
   "name": "python3"
  },
  "language_info": {
   "codemirror_mode": {
    "name": "ipython",
    "version": 3
   },
   "file_extension": ".py",
   "mimetype": "text/x-python",
   "name": "python",
   "nbconvert_exporter": "python",
   "pygments_lexer": "ipython3",
   "version": "3.8.10"
  },
  "orig_nbformat": 4
 },
 "nbformat": 4,
 "nbformat_minor": 2
}
