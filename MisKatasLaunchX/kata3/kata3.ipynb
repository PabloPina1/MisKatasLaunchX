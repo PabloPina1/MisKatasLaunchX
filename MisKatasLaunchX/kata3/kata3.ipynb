{
 "cells": [
  {
   "cell_type": "markdown",
   "metadata": {},
   "source": [
    "# Ejercicio - Escribir declaraciones if, else, y elif"
   ]
  },
  {
   "cell_type": "code",
   "execution_count": 14,
   "metadata": {},
   "outputs": [
    {
     "name": "stdout",
     "output_type": "stream",
     "text": [
      "Advertencia! una asteroide se acerca\n"
     ]
    }
   ],
   "source": [
    "vel_asteroide = 49\n",
    "advertencia = 'Advertencia! una asteroide se acerca'\n",
    "if vel_asteroide > 25:\n",
    "    print(advertencia)\n",
    "else:\n",
    "    print('Todo en calma')"
   ]
  },
  {
   "cell_type": "code",
   "execution_count": 20,
   "metadata": {},
   "outputs": [
    {
     "name": "stdout",
     "output_type": "stream",
     "text": [
      "El cielo esta despejado!\n"
     ]
    }
   ],
   "source": [
    "vel_asteroide = 19\n",
    "if vel_asteroide > 20:\n",
    "    print('Hay un asteroide entrando a la atmosfera!')\n",
    "elif vel_asteroide == 20:\n",
    "    print('Hay un asteroide entrando a la atmosfera!')\n",
    "else:\n",
    "    print('El cielo esta despejado!')"
   ]
  },
  {
   "cell_type": "code",
   "execution_count": 1,
   "metadata": {},
   "outputs": [
    {
     "name": "stdout",
     "output_type": "stream",
     "text": [
      "El cielo esta despejado!\n"
     ]
    }
   ],
   "source": [
    "vel_asteroide = 10\n",
    "tamaño_asteroide = 24\n",
    "if vel_asteroide > 25 and tamaño_asteroide > 25:\n",
    "    print(advertencia)\n",
    "elif vel_asteroide >= 20:\n",
    "    print('Hay un asteroide entrando en la atmosfera!')\n",
    "elif tamaño_asteroide < 25:\n",
    "    print('El cielo esta despejado!')\n",
    "else:\n",
    "    print('Todo en calma')"
   ]
  },
  {
   "cell_type": "markdown",
   "metadata": {},
   "source": []
  }
 ],
 "metadata": {
  "interpreter": {
   "hash": "916dbcbb3f70747c44a77c7bcd40155683ae19c65e1c03b4aa3499c5328201f1"
  },
  "kernelspec": {
   "display_name": "Python 3.8.10 64-bit",
   "language": "python",
   "name": "python3"
  },
  "language_info": {
   "codemirror_mode": {
    "name": "ipython",
    "version": 3
   },
   "file_extension": ".py",
   "mimetype": "text/x-python",
   "name": "python",
   "nbconvert_exporter": "python",
   "pygments_lexer": "ipython3",
   "version": "3.8.10"
  },
  "orig_nbformat": 4
 },
 "nbformat": 4,
 "nbformat_minor": 2
}
